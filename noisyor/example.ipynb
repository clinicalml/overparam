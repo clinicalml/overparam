{
 "cells": [
  {
   "cell_type": "code",
   "execution_count": 1,
   "metadata": {},
   "outputs": [],
   "source": [
    "import os\n",
    "import shutil\n",
    "import subprocess\n",
    "\n",
    "from IPython.display import Image"
   ]
  },
  {
   "cell_type": "markdown",
   "metadata": {},
   "source": [
    "Create experiment demo directory."
   ]
  },
  {
   "cell_type": "code",
   "execution_count": 2,
   "metadata": {},
   "outputs": [],
   "source": [
    "if os.access('experiments_demo', os.F_OK):\n",
    "    !rm -rf experiments_demo\n",
    "!mkdir experiments_demo"
   ]
  },
  {
   "cell_type": "markdown",
   "metadata": {},
   "source": [
    "Generate model parameters."
   ]
  },
  {
   "cell_type": "code",
   "execution_count": 3,
   "metadata": {},
   "outputs": [
    {
     "name": "stdout",
     "output_type": "stream",
     "text": [
      "generating network description for experiments_demo\r\n",
      "setting up directories\r\n",
      "writing network parameters\r\n"
     ]
    }
   ],
   "source": [
    "!python model_generation/generate_synth_images.py experiments_demo"
   ]
  },
  {
   "cell_type": "markdown",
   "metadata": {},
   "source": [
    "Generate samples from the model parameters."
   ]
  },
  {
   "cell_type": "code",
   "execution_count": 4,
   "metadata": {},
   "outputs": [
    {
     "name": "stdout",
     "output_type": "stream",
     "text": [
      "/Users/raresbuhai/Documents/UROP_Sontag/overparam/noisyor/sampling\n",
      "c++    -c -o sample.o sample.cpp\n",
      "In file included from sample.cpp:1:\n",
      "\u001b[1m./sampling.h:1:17: \u001b[0m\u001b[0;1;35mwarning: \u001b[0m\u001b[1musing directive refers to implicitly-defined\n",
      "      namespace 'std'\u001b[0m\n",
      "using namespace std;\n",
      "\u001b[0;1;32m                ^\n",
      "\u001b[0m1 warning generated.\n",
      "c++    -c -o sampling.o sampling.cpp\n",
      "c++    -c -o mtrand.o mtrand.cpp\n",
      "g++ -o sample -O3 sample.o sampling.o mtrand.o\n",
      "/Users/raresbuhai/Documents/UROP_Sontag/overparam/noisyor\n",
      "sampling from experiments_demo network taking 10000 samples with seed 0\n",
      "read 8 priors\n",
      "read 64 noises\n",
      "read weights\n",
      "sample 0\n",
      "sample 1000\n",
      "sample 2000\n",
      "sample 3000\n",
      "sample 4000\n",
      "sample 5000\n",
      "sample 6000\n",
      "sample 7000\n",
      "sample 8000\n",
      "sample 9000\n"
     ]
    }
   ],
   "source": [
    "if os.access('sampling/sample.o', os.F_OK):\n",
    "    !rm -f sampling/sample.o\n",
    "if os.access('sampling/sampling.o', os.F_OK):\n",
    "    !rm -f sampling/sampling.o\n",
    "if os.access('sampling/mtrand.o', os.F_OK):\n",
    "    !rm -f sampling/mtrand.o\n",
    "if os.access('sampling/sample', os.F_OK):\n",
    "    !rm -f sampling/sample\n",
    "%cd sampling\n",
    "!make\n",
    "%cd ..\n",
    "\n",
    "!mkdir experiments_demo/samples\n",
    "!./sampling/sample experiments_demo 0 10000"
   ]
  },
  {
   "cell_type": "markdown",
   "metadata": {},
   "source": [
    "Train the algorithm on the data set, with 16 latent variables (there are 8 ground truth latent variables), and 2 runs with different random seeds.\n",
    "\n",
    "Note: on our system, this step can take up to 40 minutes to run. For test purposes, one may reduce the number of epochs in training/train_recognition_network.py (the \"epochs\" field of the config object)."
   ]
  },
  {
   "cell_type": "code",
   "execution_count": 5,
   "metadata": {},
   "outputs": [
    {
     "name": "stdout",
     "output_type": "stream",
     "text": [
      "/Users/raresbuhai/Documents/UROP_Sontag/overparam/noisyor/training\n",
      "/Library/Python/2.7/site-packages/torch/nn/_reduction.py:46: UserWarning: size_average and reduce args will be deprecated, please use reduction='none' instead.\n",
      "  warnings.warn(warning.format(ret))\n",
      "/Library/Python/2.7/site-packages/torch/nn/_reduction.py:46: UserWarning: size_average and reduce args will be deprecated, please use reduction='none' instead.\n",
      "  warnings.warn(warning.format(ret))\n",
      "/Users/raresbuhai/Documents/UROP_Sontag/overparam/noisyor\n"
     ]
    }
   ],
   "source": [
    "!mkdir experiments_demo/runs\n",
    "%cd training\n",
    "!python run_train_recognition_network.py ../experiments_demo/samples/raw_samples_n10000_s0 ../experiments_demo/runs 16 2\n",
    "%cd .."
   ]
  },
  {
   "cell_type": "markdown",
   "metadata": {},
   "source": [
    "Evaluate the results. Shows the number of latent variables matching ground truth latent variables in each run, whether each run has perfect recovery, and the log-likelihood for each run."
   ]
  },
  {
   "cell_type": "code",
   "execution_count": 6,
   "metadata": {},
   "outputs": [
    {
     "name": "stdout",
     "output_type": "stream",
     "text": [
      "Matches: [7, 7]\r\n",
      "Perfect: [False, False]\r\n",
      "Log-likelihood: [-11.2277466071, -11.3092444825]\r\n"
     ]
    }
   ],
   "source": [
    "!python visualization/evaluate_results.py experiments_demo/true_params experiments_demo/runs 100 2"
   ]
  },
  {
   "cell_type": "markdown",
   "metadata": {},
   "source": [
    "Visualizes the resulting models for the two runs."
   ]
  },
  {
   "cell_type": "code",
   "execution_count": 7,
   "metadata": {},
   "outputs": [
    {
     "data": {
      "image/png": "[encoded data removed]",
      "text/plain": [
       "<IPython.core.display.Image object>"
      ]
     },
     "execution_count": 7,
     "metadata": {},
     "output_type": "execute_result"
    }
   ],
   "source": [
    "# run 1\n",
    "!python visualization/visualize_images.py experiments_demo/runs/R1/model_epoch1000.dat experiments_demo/img1.png\n",
    "Image(filename='experiments_demo/img1.png')"
   ]
  },
  {
   "cell_type": "code",
   "execution_count": 8,
   "metadata": {},
   "outputs": [
    {
     "data": {
      "image/png": "[encoded data removed]",
      "text/plain": [
       "<IPython.core.display.Image object>"
      ]
     },
     "execution_count": 8,
     "metadata": {},
     "output_type": "execute_result"
    }
   ],
   "source": [
    "# run 2\n",
    "!python visualization/visualize_images.py experiments_demo/runs/R2/model_epoch1000.dat experiments_demo/img2.png\n",
    "Image(filename='experiments_demo/img2.png') "
   ]
  },
  {
   "cell_type": "code",
   "execution_count": null,
   "metadata": {},
   "outputs": [],
   "source": []
  }
 ],
 "metadata": {
  "kernelspec": {
   "display_name": "Python 2",
   "language": "python",
   "name": "python2"
  },
  "language_info": {
   "codemirror_mode": {
    "name": "ipython",
    "version": 2
   },
   "file_extension": ".py",
   "mimetype": "text/x-python",
   "name": "python",
   "nbconvert_exporter": "python",
   "pygments_lexer": "ipython2",
   "version": "2.7.10"
  }
 },
 "nbformat": 4,
 "nbformat_minor": 2
}
