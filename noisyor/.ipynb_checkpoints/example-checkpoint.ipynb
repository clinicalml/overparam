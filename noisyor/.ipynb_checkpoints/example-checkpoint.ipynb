{
 "cells": [
  {
   "cell_type": "code",
   "execution_count": null,
   "metadata": {},
   "outputs": [],
   "source": [
    "import os\n",
    "import shutil\n",
    "import subprocess\n",
    "\n",
    "from IPython.display import Image"
   ]
  },
  {
   "cell_type": "markdown",
   "metadata": {},
   "source": [
    "Create experiment demo directory."
   ]
  },
  {
   "cell_type": "code",
   "execution_count": null,
   "metadata": {},
   "outputs": [],
   "source": [
    "if os.access('experiments_demo', os.F_OK):\n",
    "    !rm -rf experiments_demo\n",
    "!mkdir experiments_demo"
   ]
  },
  {
   "cell_type": "markdown",
   "metadata": {},
   "source": [
    "Generate model parameters."
   ]
  },
  {
   "cell_type": "code",
   "execution_count": null,
   "metadata": {},
   "outputs": [],
   "source": [
    "!python model_generation/generate_synth_images.py experiments_demo"
   ]
  },
  {
   "cell_type": "markdown",
   "metadata": {},
   "source": [
    "Generate samples from the model parameters."
   ]
  },
  {
   "cell_type": "code",
   "execution_count": null,
   "metadata": {},
   "outputs": [],
   "source": [
    "if os.access('sampling/sample.o', os.F_OK):\n",
    "    !rm -f sampling/sample.o\n",
    "if os.access('sampling/sampling.o', os.F_OK):\n",
    "    !rm -f sampling/sampling.o\n",
    "if os.access('sampling/mtrand.o', os.F_OK):\n",
    "    !rm -f sampling/mtrand.o\n",
    "if os.access('sampling/sample', os.F_OK):\n",
    "    !rm -f sampling/sample\n",
    "%cd sampling\n",
    "!make\n",
    "%cd ..\n",
    "\n",
    "!mkdir experiments_demo/samples\n",
    "!./sampling/sample experiments_demo 0 1000"
   ]
  },
  {
   "cell_type": "markdown",
   "metadata": {},
   "source": [
    "Train the algorithm on the data set, with 16 latent variables (there are 8 ground truth latent variables), and 2 runs with different random seeds.\n",
    "\n",
    "For this example to be relatively fast, we set the training algorithm to 100 epochs (in training/train_recognition_network.py), which is typically not enough to reach ground truth results, but enough to show how the algorithm runs."
   ]
  },
  {
   "cell_type": "code",
   "execution_count": null,
   "metadata": {},
   "outputs": [],
   "source": [
    "!mkdir experiments_demo/runs\n",
    "%cd training\n",
    "!python run_train_recognition_network.py ../experiments_demo/samples/raw_samples_n1000_s0 ../experiments_demo/runs 16 2\n",
    "%cd .."
   ]
  },
  {
   "cell_type": "markdown",
   "metadata": {},
   "source": [
    "Evaluate the results. Shows the number of latent variables matching ground truth latent variables in each run, whether each run has perfect recovery, and the log-likelihood for each run."
   ]
  },
  {
   "cell_type": "code",
   "execution_count": null,
   "metadata": {},
   "outputs": [],
   "source": [
    "!python visualization/evaluate_results.py experiments_demo/true_params experiments_demo/runs 100 2"
   ]
  },
  {
   "cell_type": "markdown",
   "metadata": {},
   "source": [
    "Visualizes the resulting models for the two runs."
   ]
  },
  {
   "cell_type": "code",
   "execution_count": null,
   "metadata": {},
   "outputs": [],
   "source": [
    "# run 1\n",
    "!python visualization/visualize_images.py experiments_demo/runs/R1/model_epoch100.dat experiments_demo/img1.png\n",
    "Image(filename='experiments_demo/img1.png')"
   ]
  },
  {
   "cell_type": "code",
   "execution_count": null,
   "metadata": {},
   "outputs": [],
   "source": [
    "# run 2\n",
    "!python visualization/visualize_images.py experiments_demo/runs/R2/model_epoch100.dat experiments_demo/img2.png\n",
    "Image(filename='experiments_demo/img2.png') "
   ]
  }
 ],
 "metadata": {
  "kernelspec": {
   "display_name": "Python 2",
   "language": "python",
   "name": "python2"
  },
  "language_info": {
   "codemirror_mode": {
    "name": "ipython",
    "version": 2
   },
   "file_extension": ".py",
   "mimetype": "text/x-python",
   "name": "python",
   "nbconvert_exporter": "python",
   "pygments_lexer": "ipython2",
   "version": "2.7.10"
  }
 },
 "nbformat": 4,
 "nbformat_minor": 2
}
