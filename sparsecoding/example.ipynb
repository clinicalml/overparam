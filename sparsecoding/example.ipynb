{
 "cells": [
  {
   "cell_type": "code",
   "execution_count": 1,
   "metadata": {},
   "outputs": [],
   "source": [
    "import os\n",
    "import shutil\n",
    "import subprocess"
   ]
  },
  {
   "cell_type": "markdown",
   "metadata": {},
   "source": [
    "Create experiment demo directory."
   ]
  },
  {
   "cell_type": "code",
   "execution_count": 2,
   "metadata": {},
   "outputs": [],
   "source": [
    "if os.access('experiments_demo', os.F_OK):\n",
    "    !rm -rf experiments_demo\n",
    "!mkdir experiments_demo"
   ]
  },
  {
   "cell_type": "markdown",
   "metadata": {},
   "source": [
    "Generate model parameters."
   ]
  },
  {
   "cell_type": "code",
   "execution_count": 3,
   "metadata": {},
   "outputs": [],
   "source": [
    "!python model_generation/generate_ground_truth.py experiments_demo"
   ]
  },
  {
   "cell_type": "markdown",
   "metadata": {},
   "source": [
    "Generate samples from the model parameters."
   ]
  },
  {
   "cell_type": "code",
   "execution_count": 4,
   "metadata": {},
   "outputs": [],
   "source": [
    "!mkdir experiments_demo/samples\n",
    "!python sampling/generate_samples.py experiments_demo 0 10000 5"
   ]
  },
  {
   "cell_type": "markdown",
   "metadata": {},
   "source": [
    "Train the algorithm on the data set, with 48 columns (there are 24 ground truth columns), and 2 runs with different random seeds. \n",
    "\n",
    "Note: on our system, this step can take up to 50 minutes to run. For test purposes, one may reduce the number of epochs in training/train.py (the \"epochs\" field of the config object)."
   ]
  },
  {
   "cell_type": "code",
   "execution_count": 5,
   "metadata": {},
   "outputs": [],
   "source": [
    "!mkdir experiments_demo/runs\n",
    "%cd -q training\n",
    "!python run_train.py ../experiments_demo/samples/samples.txt ../experiments_demo/runs 48 2\n",
    "%cd -q .."
   ]
  },
  {
   "cell_type": "markdown",
   "metadata": {},
   "source": [
    "Evaluate the results. Shows the number of columns matching ground truth columns in each run, whether each run has perfect recovery, and the total error for each run."
   ]
  },
  {
   "cell_type": "code",
   "execution_count": 6,
   "metadata": {},
   "outputs": [
    {
     "name": "stdout",
     "output_type": "stream",
     "text": [
      "Matches: [24, 24]\r\n",
      "Perfect: 2\r\n",
      "Errors: [0.0012149059191269966, 0.00121859971731592]\r\n"
     ]
    }
   ],
   "source": [
    "!python visualization/evaluate_results.py experiments_demo/true_params/matrix.txt experiments_demo/runs model_epoch2000.dat 2"
   ]
  },
  {
   "cell_type": "code",
   "execution_count": null,
   "metadata": {},
   "outputs": [],
   "source": []
  }
 ],
 "metadata": {
  "kernelspec": {
   "display_name": "Python 3",
   "language": "python",
   "name": "python3"
  },
  "language_info": {
   "codemirror_mode": {
    "name": "ipython",
    "version": 3
   },
   "file_extension": ".py",
   "mimetype": "text/x-python",
   "name": "python",
   "nbconvert_exporter": "python",
   "pygments_lexer": "ipython3",
   "version": "3.7.4"
  }
 },
 "nbformat": 4,
 "nbformat_minor": 2
}
